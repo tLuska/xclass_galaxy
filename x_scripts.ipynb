{
 "cells": [
  {
   "cell_type": "markdown",
   "metadata": {},
   "source": [
    "# Data"
   ]
  },
  {
   "cell_type": "code",
   "execution_count": 1,
   "metadata": {},
   "outputs": [],
   "source": [
    "import pandas as pd"
   ]
  },
  {
   "cell_type": "code",
   "execution_count": 4,
   "metadata": {},
   "outputs": [],
   "source": [
    "pos_df = pd.read_csv('x_positive_data.csv', header=None)"
   ]
  },
  {
   "cell_type": "code",
   "execution_count": 6,
   "metadata": {},
   "outputs": [],
   "source": [
    "pos_df.columns = ['name', 'coord1_ra', 'coord2_dec', 'radius_pix']"
   ]
  },
  {
   "cell_type": "code",
   "execution_count": 7,
   "metadata": {},
   "outputs": [
    {
     "data": {
      "text/html": [
       "<div>\n",
       "<table border=\"1\" class=\"dataframe\">\n",
       "  <thead>\n",
       "    <tr style=\"text-align: right;\">\n",
       "      <th></th>\n",
       "      <th>name</th>\n",
       "      <th>coord1_ra</th>\n",
       "      <th>coord2_dec</th>\n",
       "      <th>radius_pix</th>\n",
       "    </tr>\n",
       "  </thead>\n",
       "  <tbody>\n",
       "    <tr>\n",
       "      <th>0</th>\n",
       "      <td>EON_1.081_-6.193</td>\n",
       "      <td>1.081240</td>\n",
       "      <td>-6.193389</td>\n",
       "      <td>161</td>\n",
       "    </tr>\n",
       "    <tr>\n",
       "      <th>1</th>\n",
       "      <td>EON_1.919_24.801</td>\n",
       "      <td>1.918513</td>\n",
       "      <td>24.801214</td>\n",
       "      <td>155</td>\n",
       "    </tr>\n",
       "    <tr>\n",
       "      <th>2</th>\n",
       "      <td>EON_2.203_4.456</td>\n",
       "      <td>2.202895</td>\n",
       "      <td>4.456114</td>\n",
       "      <td>139</td>\n",
       "    </tr>\n",
       "    <tr>\n",
       "      <th>3</th>\n",
       "      <td>EON_2.609_28.988</td>\n",
       "      <td>2.609454</td>\n",
       "      <td>28.988247</td>\n",
       "      <td>300</td>\n",
       "    </tr>\n",
       "    <tr>\n",
       "      <th>4</th>\n",
       "      <td>EON_3.421_5.978</td>\n",
       "      <td>3.420708</td>\n",
       "      <td>5.977557</td>\n",
       "      <td>189</td>\n",
       "    </tr>\n",
       "  </tbody>\n",
       "</table>\n",
       "</div>"
      ],
      "text/plain": [
       "               name  coord1_ra  coord2_dec  radius_pix\n",
       "0  EON_1.081_-6.193   1.081240   -6.193389         161\n",
       "1  EON_1.919_24.801   1.918513   24.801214         155\n",
       "2   EON_2.203_4.456   2.202895    4.456114         139\n",
       "3  EON_2.609_28.988   2.609454   28.988247         300\n",
       "4   EON_3.421_5.978   3.420708    5.977557         189"
      ]
     },
     "execution_count": 7,
     "metadata": {},
     "output_type": "execute_result"
    }
   ],
   "source": [
    "pos_df.head()"
   ]
  },
  {
   "cell_type": "code",
   "execution_count": 8,
   "metadata": {},
   "outputs": [
    {
     "data": {
      "text/plain": [
       "(288, 4)"
      ]
     },
     "execution_count": 8,
     "metadata": {},
     "output_type": "execute_result"
    }
   ],
   "source": [
    "pos_df.shape"
   ]
  },
  {
   "cell_type": "code",
   "execution_count": 9,
   "metadata": {},
   "outputs": [],
   "source": [
    "neg_df = pd.read_csv('x_negative_data.csv', header=None)"
   ]
  },
  {
   "cell_type": "code",
   "execution_count": 10,
   "metadata": {},
   "outputs": [],
   "source": [
    "neg_df.columns = ['name', 'coord1_ra', 'coord2_dec', 'radius_pix']"
   ]
  },
  {
   "cell_type": "code",
   "execution_count": 11,
   "metadata": {},
   "outputs": [
    {
     "data": {
      "text/html": [
       "<div>\n",
       "<table border=\"1\" class=\"dataframe\">\n",
       "  <thead>\n",
       "    <tr style=\"text-align: right;\">\n",
       "      <th></th>\n",
       "      <th>name</th>\n",
       "      <th>coord1_ra</th>\n",
       "      <th>coord2_dec</th>\n",
       "      <th>radius_pix</th>\n",
       "    </tr>\n",
       "  </thead>\n",
       "  <tbody>\n",
       "    <tr>\n",
       "      <th>0</th>\n",
       "      <td>EON_0.183_7.090</td>\n",
       "      <td>0.182590</td>\n",
       "      <td>7.090147</td>\n",
       "      <td>96</td>\n",
       "    </tr>\n",
       "    <tr>\n",
       "      <th>1</th>\n",
       "      <td>EON_0.187_33.757</td>\n",
       "      <td>0.186788</td>\n",
       "      <td>33.756809</td>\n",
       "      <td>90</td>\n",
       "    </tr>\n",
       "    <tr>\n",
       "      <th>2</th>\n",
       "      <td>EON_0.190_14.075</td>\n",
       "      <td>0.189996</td>\n",
       "      <td>14.074663</td>\n",
       "      <td>116</td>\n",
       "    </tr>\n",
       "    <tr>\n",
       "      <th>3</th>\n",
       "      <td>EON_0.200_14.278</td>\n",
       "      <td>0.199556</td>\n",
       "      <td>14.277530</td>\n",
       "      <td>169</td>\n",
       "    </tr>\n",
       "    <tr>\n",
       "      <th>4</th>\n",
       "      <td>EON_0.212_-5.371</td>\n",
       "      <td>0.212280</td>\n",
       "      <td>-5.370842</td>\n",
       "      <td>101</td>\n",
       "    </tr>\n",
       "  </tbody>\n",
       "</table>\n",
       "</div>"
      ],
      "text/plain": [
       "               name  coord1_ra  coord2_dec  radius_pix\n",
       "0   EON_0.183_7.090   0.182590    7.090147          96\n",
       "1  EON_0.187_33.757   0.186788   33.756809          90\n",
       "2  EON_0.190_14.075   0.189996   14.074663         116\n",
       "3  EON_0.200_14.278   0.199556   14.277530         169\n",
       "4  EON_0.212_-5.371   0.212280   -5.370842         101"
      ]
     },
     "execution_count": 11,
     "metadata": {},
     "output_type": "execute_result"
    }
   ],
   "source": [
    "neg_df.head()"
   ]
  },
  {
   "cell_type": "code",
   "execution_count": 12,
   "metadata": {},
   "outputs": [
    {
     "data": {
      "text/plain": [
       "(5133, 4)"
      ]
     },
     "execution_count": 12,
     "metadata": {},
     "output_type": "execute_result"
    }
   ],
   "source": [
    "neg_df.shape"
   ]
  },
  {
   "cell_type": "markdown",
   "metadata": {},
   "source": [
    "# Legacy fits loading"
   ]
  },
  {
   "cell_type": "markdown",
   "metadata": {},
   "source": [
    "You can check images on https://www.legacysurvey.org/viewer."
   ]
  },
  {
   "cell_type": "code",
   "execution_count": 1,
   "metadata": {},
   "outputs": [],
   "source": [
    "import numpy as np\n",
    "import os\n",
    "import urllib"
   ]
  },
  {
   "cell_type": "code",
   "execution_count": 2,
   "metadata": {},
   "outputs": [],
   "source": [
    "def geturl_legacy(ra, dec, size=240, band='r', layer='dr8-resid'):\n",
    "    \n",
    "    assert band in ['g', 'r', 'z']\n",
    "    assert layer in ['dr8', 'dr8-resid', 'dr8-model']\n",
    "\n",
    "    url = (\"http://legacysurvey.org/viewer/fits-cutout/?ra={}&dec={}&layer={}&pixscale=0.27&bands={}&size={}\").format(ra, dec, layer, band, size)\n",
    "    return url"
   ]
  },
  {
   "cell_type": "code",
   "execution_count": 9,
   "metadata": {},
   "outputs": [],
   "source": [
    "def clear_on_fail_(name, dir_path):\n",
    "    for band in ['g', 'r', 'z']:\n",
    "        for layer in ['dr8', 'dr8-resid', 'dr8-model']:\n",
    "            output_image='{}/{}_{}_{}.fits'.format(dir_path, name, layer, band)\n",
    "            try:\n",
    "                os.remove(output_image)\n",
    "            except:\n",
    "                pass\n",
    "\n",
    "def load_legacy_all(name=None, ra=None, dec=None, size=None, save_to=None):\n",
    "    if not os.path.isdir(save_to):\n",
    "        os.mkdir(save_to)\n",
    "    \n",
    "    for band in ['g', 'r', 'z']:\n",
    "        for layer in ['dr8', 'dr8-resid', 'dr8-model']:\n",
    "            try:\n",
    "                fitsurl = geturl_legacy(ra, dec, band=band, size=size, layer=layer)\n",
    "                output_image='{}/{}_{}_{}.fits'.format(save_to, name, layer, band)\n",
    "                urllib.request.urlretrieve(fitsurl, output_image)\n",
    "                if os.path.getsize(output_image)/1024 < 3:  # empirical threshold\n",
    "                    clear_on_fail_(name, save_to)\n",
    "                    break;break\n",
    "            except Exception as e:\n",
    "                clear_on_fail_(name, save_to)\n",
    "                raise e"
   ]
  },
  {
   "cell_type": "markdown",
   "metadata": {},
   "source": [
    "Example:"
   ]
  },
  {
   "cell_type": "code",
   "execution_count": 7,
   "metadata": {},
   "outputs": [
    {
     "name": "stdout",
     "output_type": "stream",
     "text": [
      "CPU times: user 91.3 ms, sys: 45.3 ms, total: 137 ms\n",
      "Wall time: 18.2 s\n"
     ]
    }
   ],
   "source": [
    "%%time\n",
    "load_legacy_all(name='NGC5614', ra=67.9944, dec=-5.3701, size=300, save_to='./tttmp')"
   ]
  },
  {
   "cell_type": "markdown",
   "metadata": {},
   "source": [
    "# Rotate and zoom in python"
   ]
  },
  {
   "cell_type": "code",
   "execution_count": 11,
   "metadata": {},
   "outputs": [],
   "source": [
    "from scipy.ndimage import rotate"
   ]
  },
  {
   "cell_type": "code",
   "execution_count": 12,
   "metadata": {},
   "outputs": [
    {
     "data": {
      "text/plain": [
       "'rot_data = rotate(array, angle=angle, reshape=False)'"
      ]
     },
     "execution_count": 12,
     "metadata": {},
     "output_type": "execute_result"
    }
   ],
   "source": [
    "'''rot_data = rotate(array, angle=angle, reshape=False)'''"
   ]
  },
  {
   "cell_type": "code",
   "execution_count": 13,
   "metadata": {},
   "outputs": [],
   "source": [
    "from scipy.ndimage import zoom"
   ]
  },
  {
   "cell_type": "code",
   "execution_count": 14,
   "metadata": {},
   "outputs": [],
   "source": [
    "def zoom_all_data(data, target_size):\n",
    "    \"\"\"\n",
    "    Function zoomes all the data to the given target size\n",
    "    \"\"\"\n",
    "    initial_size = data.shape[0]\n",
    "    scale = target_size / initial_size\n",
    "    return zoom(input=data, zoom=scale)"
   ]
  },
  {
   "cell_type": "markdown",
   "metadata": {},
   "source": [
    "# Galaxies to test on"
   ]
  },
  {
   "cell_type": "markdown",
   "metadata": {},
   "source": [
    "Big list with coordinates - **work in progress**"
   ]
  }
 ],
 "metadata": {
  "kernelspec": {
   "display_name": "Python 3",
   "language": "python",
   "name": "python3"
  },
  "language_info": {
   "codemirror_mode": {
    "name": "ipython",
    "version": 3
   },
   "file_extension": ".py",
   "mimetype": "text/x-python",
   "name": "python",
   "nbconvert_exporter": "python",
   "pygments_lexer": "ipython3",
   "version": "3.6.6"
  },
  "toc": {
   "nav_menu": {},
   "number_sections": true,
   "sideBar": true,
   "skip_h1_title": false,
   "title_cell": "Table of Contents",
   "title_sidebar": "Contents",
   "toc_cell": false,
   "toc_position": {},
   "toc_section_display": true,
   "toc_window_display": false
  }
 },
 "nbformat": 4,
 "nbformat_minor": 2
}
